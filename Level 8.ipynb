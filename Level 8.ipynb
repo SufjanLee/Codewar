{
 "cells": [
  {
   "cell_type": "markdown",
   "metadata": {},
   "source": [
    "# Codewars Practice"
   ]
  },
  {
   "cell_type": "markdown",
   "metadata": {},
   "source": [
    "## Level 8"
   ]
  },
  {
   "cell_type": "markdown",
   "metadata": {},
   "source": [
    "## Summary\n",
    "1. ceil(): return \n",
    "2. map(function, iretable)\n",
    "3. bin(x): convert an **int** to binary value.e.g. bin(10) ==> '0b1010'"
   ]
  },
  {
   "cell_type": "markdown",
   "metadata": {},
   "source": [
    "#### 1. Find the smallest integer in the array.\n",
    "    Description: Given an array of integers your solution should find the smallest integer."
   ]
  },
  {
   "cell_type": "code",
   "execution_count": null,
   "metadata": {},
   "outputs": [],
   "source": [
    "def find_smallest_int(arr):\n",
    "    # Code here\n",
    "    return sorted(arr)[0]"
   ]
  },
  {
   "cell_type": "code",
   "execution_count": 1,
   "metadata": {},
   "outputs": [],
   "source": [
    "def find_smallest_int(arr):\n",
    "    # Code here\n",
    "    arr.sort()\n",
    "    return arr[0]"
   ]
  },
  {
   "cell_type": "code",
   "execution_count": null,
   "metadata": {},
   "outputs": [],
   "source": [
    "def find_smallest_int(arr):\n",
    "    # Code here\n",
    "    return min(arr)"
   ]
  },
  {
   "cell_type": "markdown",
   "metadata": {},
   "source": [
    "#### Summary: **list.sort()** will return **None** value. Because sort() just sort **the origin list**, and return nothing. **sorted(list)** will return a new list"
   ]
  },
  {
   "cell_type": "markdown",
   "metadata": {},
   "source": [
    "#### 2. Convert boolean values to strings 'Yes' or 'No'.\n",
    "    Description: Complete the method that takes a boolean value and return a \"Yes\" string for true, or a \"No\" string for false."
   ]
  },
  {
   "cell_type": "code",
   "execution_count": 5,
   "metadata": {},
   "outputs": [],
   "source": [
    "def bool_to_word(bool):\n",
    "#     return \"Yes\" if bool else \"No\"\n",
    "#     return ['No', 'Yes'][bool]\n",
    "    return [lambda: 'No', lambda: 'Yes'][bool]()"
   ]
  },
  {
   "cell_type": "code",
   "execution_count": 4,
   "metadata": {},
   "outputs": [],
   "source": [
    "# an unnamed dict here d = {True: 'Yes', False: 'No'}, and we define bool_to_word as the get method of class dict, bound on instance d.\n",
    "# So that bool_to_word(x) = d.get(x) which equals to d[x] if x is actually a key of d, else to None.\n",
    "\n",
    "bool_to_word = {True: 'Yes', False: 'No'}.get"
   ]
  },
  {
   "cell_type": "markdown",
   "metadata": {},
   "source": [
    "#### 3. Basic Mathematical Operations\n",
    "    Description: Your task is to create a function that does four basic mathematical operations.\n",
    "            The function should take three arguments - operation(string/char), value1(number), value2(number).\n",
    "            The function should return result of numbers after applying the chosen operation."
   ]
  },
  {
   "cell_type": "code",
   "execution_count": 6,
   "metadata": {},
   "outputs": [],
   "source": [
    "# eval() is super magic\n",
    "def basic_op(operator, value1, value2):\n",
    "#     return eval(\"{}{}{}\".format(value1, operator, value2))\n",
    "    return eval (str(value1) + operator + str(value2))"
   ]
  },
  {
   "cell_type": "markdown",
   "metadata": {},
   "source": [
    "#### 4. Century From Year\n",
    "    Description: The first century spans from the year 1 up to and including the year 100, The second - from the year 101 up to and including the year 200, etc."
   ]
  },
  {
   "cell_type": "code",
   "execution_count": null,
   "metadata": {},
   "outputs": [],
   "source": [
    "import math\n",
    "\n",
    "def century(year):\n",
    "    # ceil(3.4) ==> 4\n",
    "    return math.ceil(year / 100)"
   ]
  },
  {
   "cell_type": "markdown",
   "metadata": {},
   "source": [
    "#### 5. Convert number to reversed array of digits\n",
    "    Description:"
   ]
  },
  {
   "cell_type": "code",
   "execution_count": null,
   "metadata": {},
   "outputs": [],
   "source": [
    "def digitize(n):\n",
    "    # map(function, iretable)\n",
    "    return map(int, str(n)[::-1])"
   ]
  }
 ],
 "metadata": {
  "kernelspec": {
   "display_name": "Python 3",
   "language": "python",
   "name": "python3"
  },
  "language_info": {
   "codemirror_mode": {
    "name": "ipython",
    "version": 3
   },
   "file_extension": ".py",
   "mimetype": "text/x-python",
   "name": "python",
   "nbconvert_exporter": "python",
   "pygments_lexer": "ipython3",
   "version": "3.7.4"
  }
 },
 "nbformat": 4,
 "nbformat_minor": 2
}
